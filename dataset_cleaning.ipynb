{
 "cells": [
  {
   "cell_type": "code",
   "execution_count": null,
   "id": "twelve-third",
   "metadata": {},
   "outputs": [],
   "source": [
    "import numpy as np\n",
    "import matplotlib.pyplot as plt\n",
    "import matplotlib.image as mpimg\n",
    "from extractors import ViTExtractor\n",
    "from manipulators import Dataset\n",
    "from requests.auth import HTTPBasicAuth\n"
   ]
  },
  {
   "cell_type": "code",
   "execution_count": null,
   "id": "every-meditation",
   "metadata": {},
   "outputs": [],
   "source": [
    "dataset = Dataset(imagelist_path = \"extracted_features_merged/imagelist_jpg.txt\", \n",
    "                 features_path = \"extracted_features_merged/ViTExtractor__.npy\",\n",
    "                 media_server = \"http://otrok.ms.mff.cuni.cz:4000/datasets/v3c1_original/frames/\",\n",
    "                 media_server_auth = HTTPBasicAuth('som', 'hunter'))"
   ]
  },
  {
   "cell_type": "code",
   "execution_count": null,
   "id": "animated-portuguese",
   "metadata": {},
   "outputs": [],
   "source": [
    "dataset.show_grid(range(8))"
   ]
  },
  {
   "cell_type": "code",
   "execution_count": null,
   "id": "prerequisite-locking",
   "metadata": {},
   "outputs": [],
   "source": [
    "dataset.show_knn(5, k = 8)"
   ]
  },
  {
   "cell_type": "code",
   "execution_count": null,
   "id": "fifth-prescription",
   "metadata": {},
   "outputs": [],
   "source": [
    "dataset.show_nth_neighbours(5, nths = [0] + [4 ** i for i in range(0, 11)])"
   ]
  },
  {
   "cell_type": "code",
   "execution_count": null,
   "id": "civil-client",
   "metadata": {},
   "outputs": [],
   "source": [
    "dataset.show_nth_neighbours(256, nths = [0] + [4 ** i for i in range(0, 11)])"
   ]
  },
  {
   "cell_type": "code",
   "execution_count": null,
   "id": "hearing-namibia",
   "metadata": {},
   "outputs": [],
   "source": [
    "dataset.show_nth_neighbours(256, nths = [5000 * i for i in range(0, 12)])"
   ]
  },
  {
   "cell_type": "code",
   "execution_count": null,
   "id": "assigned-saying",
   "metadata": {},
   "outputs": [],
   "source": [
    "len(dataset._features[0].shape)"
   ]
  },
  {
   "cell_type": "code",
   "execution_count": null,
   "id": "collectible-auditor",
   "metadata": {},
   "outputs": [],
   "source": []
  },
  {
   "cell_type": "code",
   "execution_count": null,
   "id": "chemical-volunteer",
   "metadata": {},
   "outputs": [],
   "source": []
  },
  {
   "cell_type": "code",
   "execution_count": null,
   "id": "worth-geography",
   "metadata": {},
   "outputs": [],
   "source": []
  },
  {
   "cell_type": "code",
   "execution_count": null,
   "id": "remarkable-whale",
   "metadata": {},
   "outputs": [],
   "source": []
  },
  {
   "cell_type": "code",
   "execution_count": null,
   "id": "informed-agriculture",
   "metadata": {},
   "outputs": [],
   "source": []
  }
 ],
 "metadata": {
  "kernelspec": {
   "display_name": "Python 3",
   "language": "python",
   "name": "python3"
  },
  "language_info": {
   "codemirror_mode": {
    "name": "ipython",
    "version": 3
   },
   "file_extension": ".py",
   "mimetype": "text/x-python",
   "name": "python",
   "nbconvert_exporter": "python",
   "pygments_lexer": "ipython3",
   "version": "3.8.10"
  }
 },
 "nbformat": 4,
 "nbformat_minor": 5
}
